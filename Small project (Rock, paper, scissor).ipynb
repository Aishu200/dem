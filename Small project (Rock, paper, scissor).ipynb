{
 "cells": [
  {
   "cell_type": "code",
   "execution_count": null,
   "id": "4c3a599d",
   "metadata": {},
   "outputs": [],
   "source": [
    "Way 1"
   ]
  },
  {
   "cell_type": "code",
   "execution_count": 8,
   "id": "a492c197",
   "metadata": {},
   "outputs": [
    {
     "name": "stdout",
     "output_type": "stream",
     "text": [
      "Choose Rock as r, paper as p, scissor as s: r\n",
      "Choose Rock as r, paper as p, scissor as s: s\n",
      "Player 1 wins\n"
     ]
    }
   ],
   "source": [
    "# Inputing the players choice\n",
    "\n",
    "p1 = input(\"Choose Rock as r, paper as p, scissor as s: \")\n",
    "\n",
    "p2 = input(\"Choose Rock as r, paper as p, scissor as s: \")\n",
    "\n",
    "if p1.lower() == p2.lower():\n",
    "    print(\"Draw\")\n",
    "elif p1.lower() == 'r' and p2.lower() == 's':\n",
    "    print(\"Player 1 wins\")\n",
    "elif p1.lower() == 's' and p2.lower() == 'p':\n",
    "    print(\"Player 1 wins\")\n",
    "elif p1.lower() == 'p' and p2.lower() == 'r':\n",
    "    print(\"Player 1 wins\")\n",
    "elif p2.lower == 'r' and p1.lower() == 's':\n",
    "    print(\"Player 2 wins\")\n",
    "elif p2.lower() == 's' and p1.lower() == 'p':\n",
    "    print(\"Player 2 wins\")\n",
    "elif p2.lower() == 'p' and p1,lower() == 'r':\n",
    "    print(\"Player 2 wins\")\n",
    "else:\n",
    "    print(\"choose the correct option\")"
   ]
  },
  {
   "cell_type": "code",
   "execution_count": null,
   "id": "a5fd3511",
   "metadata": {},
   "outputs": [],
   "source": []
  },
  {
   "cell_type": "code",
   "execution_count": null,
   "id": "9c29920c",
   "metadata": {},
   "outputs": [],
   "source": [
    "Way 2"
   ]
  },
  {
   "cell_type": "code",
   "execution_count": 9,
   "id": "e1e1f8e5",
   "metadata": {},
   "outputs": [
    {
     "name": "stdout",
     "output_type": "stream",
     "text": [
      "Choose Rock as r, paper as p, scissor as s\n",
      "r\n",
      "Choose Rock as r, paper as p, scissor as s\n",
      "S\n",
      "Player one Wins\n"
     ]
    }
   ],
   "source": [
    "pl1=input('Choose Rock as r, paper as p, scissor as s\\n')\n",
    "pl2=input('Choose Rock as r, paper as p, scissor as s\\n')\n",
    "d={'r':'s','p':'r','s':'p'}\n",
    "if pl1.lower()==pl2.lower():\n",
    "    print('Game Tied')\n",
    "elif d[pl1.lower()]==pl2.lower():\n",
    "    print('Player one Wins')\n",
    "else:\n",
    "    print('Player Two Wins')"
   ]
  },
  {
   "cell_type": "code",
   "execution_count": null,
   "id": "db60d339",
   "metadata": {},
   "outputs": [],
   "source": []
  },
  {
   "cell_type": "code",
   "execution_count": null,
   "id": "d5922cb3",
   "metadata": {},
   "outputs": [],
   "source": [
    "way 2 takes less time as well as storage"
   ]
  }
 ],
 "metadata": {
  "kernelspec": {
   "display_name": "Python 3 (ipykernel)",
   "language": "python",
   "name": "python3"
  },
  "language_info": {
   "codemirror_mode": {
    "name": "ipython",
    "version": 3
   },
   "file_extension": ".py",
   "mimetype": "text/x-python",
   "name": "python",
   "nbconvert_exporter": "python",
   "pygments_lexer": "ipython3",
   "version": "3.11.4"
  }
 },
 "nbformat": 4,
 "nbformat_minor": 5
}
