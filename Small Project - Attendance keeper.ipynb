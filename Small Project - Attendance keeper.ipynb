{
 "cells": [
  {
   "cell_type": "code",
   "execution_count": 5,
   "id": "28dc4299",
   "metadata": {},
   "outputs": [],
   "source": [
    "import os\n",
    "import datetime"
   ]
  },
  {
   "cell_type": "code",
   "execution_count": 14,
   "id": "0b5a24f9",
   "metadata": {},
   "outputs": [],
   "source": [
    "def attendance(s):\n",
    "    \n",
    "    # Changing the current location to the file location\n",
    "    os.chdir('D:\\\\Attendance Project')\n",
    "    \n",
    "    # Opening the file and getting the data of the file in a variable\n",
    "    with open(s) as file:\n",
    "        data = file.readline()\n",
    "        \n",
    "    # Processing the data to get only dates and names\n",
    "    data = data.strip().split(',')\n",
    "    \n",
    "    # Getting Attendance with the date\n",
    "    a = []\n",
    "    print('Enter \"P\" for Present Student')\n",
    "    for i in data:\n",
    "        if i.lower() == 'date':\n",
    "            a.append(str(datetime.date.today()))\n",
    "        else:\n",
    "            b = input(f'{i} is: ').upper()\n",
    "            if b == '':\n",
    "                a.append('A')\n",
    "            else:\n",
    "                a.append('P')\n",
    "\n",
    "    # Converting the attandance data in a String with commas in between\n",
    "    a = ','.join(a)\n",
    "\n",
    "    \n",
    "    # Saving the data in the file\n",
    "    with open(s,'a') as file:\n",
    "        file.write('\\n')\n",
    "        file.write(a)"
   ]
  },
  {
   "cell_type": "code",
   "execution_count": null,
   "id": "39c90f25",
   "metadata": {},
   "outputs": [],
   "source": []
  },
  {
   "cell_type": "raw",
   "id": "538ed3a9",
   "metadata": {},
   "source": [
    "Program will start from below"
   ]
  },
  {
   "cell_type": "code",
   "execution_count": 15,
   "id": "14feccb7",
   "metadata": {},
   "outputs": [
    {
     "name": "stdout",
     "output_type": "stream",
     "text": [
      "Enter the class number of which you are taking attendance: 2\n",
      "Enter \"P\" for Present Student\n",
      " Aaditya is: p\n",
      " Anushka is: \n",
      " Ashwin is: p\n",
      " Avinash is: p\n",
      " Bhavi is: p\n",
      " Chandan is: \n",
      " Chavi is: p\n",
      " Divya is: p\n",
      " Divyanshu is: p\n",
      " Hansa is: p\n"
     ]
    }
   ],
   "source": [
    "a = input('Enter the class number of which you are taking attendance: ')\n",
    "a = 'class '+a+'.csv'\n",
    "\n",
    "attendance(a)"
   ]
  },
  {
   "cell_type": "code",
   "execution_count": null,
   "id": "f3524b15",
   "metadata": {},
   "outputs": [],
   "source": []
  },
  {
   "cell_type": "code",
   "execution_count": 11,
   "id": "265b951f",
   "metadata": {},
   "outputs": [],
   "source": [
    "with open('class 1.csv','w') as file:\n",
    "    data = 'Date, Aadi, Anushka, Ash, Avi, Bhanvi, Chandan, Chavi, Divyanshu'\n",
    "    file.write(data)"
   ]
  },
  {
   "cell_type": "code",
   "execution_count": 12,
   "id": "8661f855",
   "metadata": {},
   "outputs": [
    {
     "data": {
      "text/plain": [
       "['class 1.csv', 'class 2.csv']"
      ]
     },
     "execution_count": 12,
     "metadata": {},
     "output_type": "execute_result"
    }
   ],
   "source": [
    "os.listdir()"
   ]
  },
  {
   "cell_type": "code",
   "execution_count": null,
   "id": "04109fa3",
   "metadata": {},
   "outputs": [],
   "source": []
  }
 ],
 "metadata": {
  "kernelspec": {
   "display_name": "Python 3 (ipykernel)",
   "language": "python",
   "name": "python3"
  },
  "language_info": {
   "codemirror_mode": {
    "name": "ipython",
    "version": 3
   },
   "file_extension": ".py",
   "mimetype": "text/x-python",
   "name": "python",
   "nbconvert_exporter": "python",
   "pygments_lexer": "ipython3",
   "version": "3.11.4"
  }
 },
 "nbformat": 4,
 "nbformat_minor": 5
}
