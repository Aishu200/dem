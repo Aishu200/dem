{
 "cells": [
  {
   "cell_type": "markdown",
   "id": "7602da2b",
   "metadata": {},
   "source": [
    "#random password generator-->16\n",
    "\n",
    "alphabets(Lower and Upper)\n",
    "\n",
    "special symbols\n",
    "\n",
    "numbers\n"
   ]
  },
  {
   "cell_type": "code",
   "execution_count": 2,
   "id": "f89ee70d",
   "metadata": {},
   "outputs": [],
   "source": [
    "# Importing the library for the project\n",
    "\n",
    "import numpy as np"
   ]
  },
  {
   "cell_type": "code",
   "execution_count": 6,
   "id": "6d3af510",
   "metadata": {},
   "outputs": [],
   "source": [
    "# lists for lower alphabets, capital alphabets, Numerals, Special Characters\n",
    "\n",
    "l_alp = ['a','b','c','d','e','f','g','h','i','j','k','l','m','n','o','p','q','r','s','t','u','v','w','x','y','z']\n",
    "u_alp = [i.upper() for i in l_alp]\n",
    "num = [0,1,2,3,4,5,6,7,8,9]\n",
    "spchr = [\"!\",\"@\",\"#\",\"$\",\"%\",\"^\",\"&\",\"*\",\")\",\"(\",\":\",\";\",\"?\",\"/\"]\n"
   ]
  },
  {
   "cell_type": "code",
   "execution_count": 8,
   "id": "d5c6dba8",
   "metadata": {},
   "outputs": [
    {
     "name": "stdout",
     "output_type": "stream",
     "text": [
      "Your Strong Password is *9G5wVYPa90:^(bg\n"
     ]
    }
   ],
   "source": [
    "# Picking the random elements from the lists and saving it in list b\n",
    "\n",
    "b = [\n",
    "    list(np.random.choice(num,4)),\n",
    "    list(np.random.choice(spchr,4)),\n",
    "    list(np.random.choice(l_alp,4)),\n",
    "    list(np.random.choice(u_alp,4))\n",
    "]\n",
    "\n",
    "\n",
    "\n",
    "# Creating a list to save the random values from the nested one\n",
    "\n",
    "a = list()\n",
    "\n",
    "\n",
    "\n",
    "# Saving the values from the nested list b to list a \n",
    "\n",
    "for i in b:\n",
    "    for j in i:\n",
    "        a.append(str(j))\n",
    "        \n",
    "\n",
    "\n",
    "# Shuffling the elements of the lsit a \n",
    "\n",
    "for i in range(5):\n",
    "    np.random.shuffle(a)\n",
    "    \n",
    "\n",
    "\n",
    "# Joining and printing the elements of list a\n",
    "\n",
    "a = \"\".join(a)\n",
    "print(\"Your Strong Password is\",a)"
   ]
  },
  {
   "cell_type": "code",
   "execution_count": null,
   "id": "1f03f0df",
   "metadata": {},
   "outputs": [],
   "source": []
  },
  {
   "cell_type": "code",
   "execution_count": 13,
   "id": "eae870fe",
   "metadata": {},
   "outputs": [],
   "source": []
  },
  {
   "cell_type": "code",
   "execution_count": null,
   "id": "40cf9517",
   "metadata": {},
   "outputs": [],
   "source": []
  },
  {
   "cell_type": "code",
   "execution_count": 15,
   "id": "54efba32",
   "metadata": {},
   "outputs": [],
   "source": []
  },
  {
   "cell_type": "code",
   "execution_count": 18,
   "id": "95e78cd6",
   "metadata": {},
   "outputs": [],
   "source": []
  },
  {
   "cell_type": "code",
   "execution_count": null,
   "id": "43eb26f9",
   "metadata": {},
   "outputs": [],
   "source": []
  },
  {
   "cell_type": "code",
   "execution_count": null,
   "id": "b5949f23",
   "metadata": {},
   "outputs": [],
   "source": []
  },
  {
   "cell_type": "code",
   "execution_count": 31,
   "id": "add17e96",
   "metadata": {},
   "outputs": [],
   "source": []
  },
  {
   "cell_type": "code",
   "execution_count": 47,
   "id": "24a32ac9",
   "metadata": {},
   "outputs": [],
   "source": []
  },
  {
   "cell_type": "code",
   "execution_count": 48,
   "id": "d4b8e7e8",
   "metadata": {},
   "outputs": [],
   "source": []
  },
  {
   "cell_type": "code",
   "execution_count": 55,
   "id": "e579cb31",
   "metadata": {},
   "outputs": [],
   "source": []
  },
  {
   "cell_type": "code",
   "execution_count": null,
   "id": "7411e3c7",
   "metadata": {},
   "outputs": [],
   "source": []
  },
  {
   "cell_type": "code",
   "execution_count": null,
   "id": "13e78ec7",
   "metadata": {},
   "outputs": [],
   "source": []
  },
  {
   "cell_type": "code",
   "execution_count": null,
   "id": "655ee588",
   "metadata": {},
   "outputs": [],
   "source": []
  }
 ],
 "metadata": {
  "kernelspec": {
   "display_name": "Python 3 (ipykernel)",
   "language": "python",
   "name": "python3"
  },
  "language_info": {
   "codemirror_mode": {
    "name": "ipython",
    "version": 3
   },
   "file_extension": ".py",
   "mimetype": "text/x-python",
   "name": "python",
   "nbconvert_exporter": "python",
   "pygments_lexer": "ipython3",
   "version": "3.11.4"
  }
 },
 "nbformat": 4,
 "nbformat_minor": 5
}
