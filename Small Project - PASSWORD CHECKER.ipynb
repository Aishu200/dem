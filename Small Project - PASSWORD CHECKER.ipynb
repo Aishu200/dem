{
 "cells": [
  {
   "cell_type": "code",
   "execution_count": 1,
   "id": "624d3131",
   "metadata": {},
   "outputs": [
    {
     "name": "stdout",
     "output_type": "stream",
     "text": [
      "Writing password.py\n"
     ]
    }
   ],
   "source": [
    "%%writefile password.py\n",
    "\n",
    "# WAP to check password and suggest what is left\n",
    "\n",
    "a  = input(\"Enter Your Password\")\n",
    "b = \"qwertyuiopasdfghjklzxcvbnm\"\n",
    "\n",
    "d = {\n",
    "    \"cap\" : b.upper(),\n",
    "    \"low\" : b,\n",
    "    \"num\" : '0123456789',\n",
    "    \"sc\"  : '!@#$%^&*()-=+_<>?/.,;:'                                                                                                             }\n",
    "\n",
    "c,l,s,n = 0,0,0,0\n",
    "\n",
    "for i in a:\n",
    "    \n",
    "    if i in d['cap']:\n",
    "        c += 1\n",
    "    elif i in d['low']:\n",
    "        l += 1\n",
    "    elif i in d['sc']:\n",
    "        s += 1\n",
    "    elif i in d['num']:\n",
    "        n += 1\n",
    "\n",
    "\n",
    "ls = []\n",
    "    \n",
    "if c == 0:\n",
    "    ls.append(\"Capital letters\")\n",
    "if l == 0:\n",
    "    ls.append(\"Small Letters\")\n",
    "if s == 0:\n",
    "    ls.append(\"Special Characters\")\n",
    "if n == 0:\n",
    "    ls.append(\"Numbers\")\n",
    "\n",
    "print(\"Capital\",c)\n",
    "print(\"Lower\",l)\n",
    "print(\"Numrals\",n)\n",
    "print(\"Special Character\",s)\n",
    "if len(ls) == 0 and len(a) > 7:\n",
    "    print(\"Your password is good to go\")\n",
    "else:\n",
    "    print(\"Your password is Weak\")\n",
    "    if len(a) < 7:\n",
    "        print(\"Your password must have at least 8 characters\")\n",
    "    if ls != 0:\n",
    "        print(ls,\"are missing in your password \")"
   ]
  },
  {
   "cell_type": "code",
   "execution_count": null,
   "id": "95f0d202",
   "metadata": {},
   "outputs": [],
   "source": [
    "\n",
    "\n"
   ]
  },
  {
   "cell_type": "code",
   "execution_count": null,
   "id": "45211899",
   "metadata": {},
   "outputs": [],
   "source": []
  },
  {
   "cell_type": "code",
   "execution_count": null,
   "id": "63699ad6",
   "metadata": {},
   "outputs": [],
   "source": []
  },
  {
   "cell_type": "code",
   "execution_count": null,
   "id": "7eb49904",
   "metadata": {},
   "outputs": [],
   "source": []
  },
  {
   "cell_type": "code",
   "execution_count": null,
   "id": "7b82b9e4",
   "metadata": {},
   "outputs": [],
   "source": []
  }
 ],
 "metadata": {
  "kernelspec": {
   "display_name": "Python 3 (ipykernel)",
   "language": "python",
   "name": "python3"
  },
  "language_info": {
   "codemirror_mode": {
    "name": "ipython",
    "version": 3
   },
   "file_extension": ".py",
   "mimetype": "text/x-python",
   "name": "python",
   "nbconvert_exporter": "python",
   "pygments_lexer": "ipython3",
   "version": "3.11.4"
  }
 },
 "nbformat": 4,
 "nbformat_minor": 5
}
