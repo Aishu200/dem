{
 "cells": [
  {
   "cell_type": "raw",
   "id": "af38f887",
   "metadata": {},
   "source": [
    "________ Content of this project_________\n",
    "\n",
    "> Login\n",
    "\n",
    "    > Account Number and Password <\n",
    "\n",
    "        >> Credit \n",
    "        >> Debit \n",
    "        >> Change Password\n",
    "        >> Show Details\n",
    "        >> Logout\n",
    "\n",
    "> Sign Up\n",
    "\n",
    "        >> Username (Generated)\n",
    "        >> Password\n",
    "        >> Initial Balance > 2000\n",
    "\n",
    "> Forgot Username/Password\n",
    "\n",
    "    > Account no, Teacher name, Gmail <\n",
    "\n",
    "\n",
    "> Exit"
   ]
  },
  {
   "cell_type": "code",
   "execution_count": 1,
   "id": "1361fed0",
   "metadata": {},
   "outputs": [],
   "source": [
    "# Database:\n",
    "\n",
    "bnk = {\n",
    "    1001 : {\n",
    "        'pswd' : \"x22u#t4/Fa9M;&PN\",\n",
    "        \"Balance\" : 6000,\n",
    "        \"Account Holder\" : \"Ashwin Kumar\",\n",
    "        \"Address\" : 'cp,jaipur',\n",
    "        \"Phone Number\" : 78451239631,\n",
    "        \"Gmail\" : 'ask@gamil.com'\n",
    "         },\n",
    "    \n",
    "    1021 : {\n",
    "        'pswd' : \"*9G5wVYPa90:^(bg\",\n",
    "        \"Balance\" : 3000,\n",
    "        \"Account Holder\" : \"Aditi Kumari\",\n",
    "        \"Address\" : 'choti chopad,jaipur',\n",
    "        \"Phone Number\" : 7845123840,\n",
    "        \"Gmail\" : 'adk@gamil.com'\n",
    "         }\n",
    "}\n",
    "\n",
    "\n",
    "# Security check database\n",
    "\n",
    "sdb = {\n",
    "    \"Harshav\" : {\n",
    "        \"Account\" : 1001,\n",
    "        \"Password\" : \"x22u#t4/Fa9M;&PN\"\n",
    "    },\n",
    "    \"Anil Shrivastava Sir\" : {\n",
    "        \"Account\" : 1021,\n",
    "        \"Password\" : \"*9G5wVYPa90:^(bg\"\n",
    "    }\n",
    "}\n"
   ]
  },
  {
   "cell_type": "code",
   "execution_count": 2,
   "id": "d8408ada",
   "metadata": {},
   "outputs": [],
   "source": [
    "# Login Function to be made here:\n",
    "\n",
    "def login(acc,pswd):\n",
    "     \n",
    "    \n",
    "    if acc in bnk.keys():\n",
    "        \n",
    "        if bnk[acc][\"pswd\"] == pswd:\n",
    "            \n",
    "            i = 1\n",
    "            \n",
    "            while i > 0:\n",
    "            \n",
    "                a  = int(input(\" \\n \\n 1) Credit \\n 2) Debit \\n 3) Change Password \\n 4) Show Details \\n 5) Logout \\n \\n \"))\n",
    "                \n",
    "                if a == 1:\n",
    "                    bal = int(input(\"Enter the amount you want to credit in your account: \"))\n",
    "                    bnk[acc][\"Balance\"] = bnk[acc][\"Balance\"] + bal\n",
    "                    print(f'Your amount of Rs {bal} has been successfully submitted and your balance is {bnk[acc][\"Balance\"]}')\n",
    "                    \n",
    "                elif a == 2:\n",
    "                    bal = int(input(\"Enter the amount you want to take out from your account: \"))\n",
    "                    if bal < bnk[acc][\"Balance\"]:\n",
    "                        bnk[acc][\"Balance\"] = bnk[acc][\"Balance\"] - bal\n",
    "                        print(f'Your amount of Rs {bal} has been successfully debited and your balance is {bnk[acc][\"Balance\"]}')\n",
    "                    else:\n",
    "                        print(\"Don't have Sufficient balance\")\n",
    "                    if bal < 2000:\n",
    "                        print(\"WARNING: Your Balance Has Reached Below Rs.2000 \")\n",
    "                        \n",
    "                elif a == 3:\n",
    "                    npsd = pswdchkr()   # New Password\n",
    "                    bnk[acc][\"pswd\"] = npsd\n",
    "                    print(f'Password has been successfully updated, your new password is: {bnk[acc][\"pswd\"]}')\n",
    "                    \n",
    "                elif a == 4:\n",
    "                    print(\"Your Current Balance is\", bnk[acc][\"Balance\"])\n",
    "                    \n",
    "                else:\n",
    "                    break\n",
    "                \n",
    "                ab = input(\"Type 'y' if you want to choose options once more\")\n",
    "                \n",
    "                if ab.lower() != 'y':\n",
    "                    i = 0\n",
    "                \n",
    "        \n",
    "        else:\n",
    "            print(\"Wrong Password, Please Try Again\")\n",
    "            login()\n",
    "    else:\n",
    "        print(\"Enter The Correct Account Number\")\n",
    "        login()"
   ]
  },
  {
   "cell_type": "code",
   "execution_count": 9,
   "id": "6d30ce17",
   "metadata": {},
   "outputs": [],
   "source": [
    "# Sign up for new users to create new account\n",
    "\n",
    "def sign_up():\n",
    "    print(\"Thanks for choosing our bank \\n Please Fill The Information Asked Below \")\n",
    "    \n",
    "    a = input(\"Enter Your Name: \")\n",
    "    b = input(\"Enter Your Address(With City and State): \")\n",
    "    c = input(\"Enter your Gmail: \")                          \n",
    "    d  = int(input(\"Enter your 10 digit Mobile Number\"))\n",
    "    s = input(\"Please enter your teacher's name as the security check in case you loose your password or Account number \")\n",
    "    p = pswdchkr()\n",
    "    bal = int(input(\"Please Credit at least Rs 2000 in your Account\"))\n",
    "    \n",
    "    if bal > 1999:\n",
    "        acc = accgen()\n",
    "        bnk[acc] = {\n",
    "            'pswd' : p,\n",
    "            \"Balance\" : bal,\n",
    "            \"Account Holder\" : a,\n",
    "            \"Address\" : b,\n",
    "            \"Phone Number\" : d,\n",
    "            \"Gmail\" : c\n",
    "                   }\n",
    "        print(\"Congrats Your Account Successfully made and your Account number is\",acc)\n",
    "        \n",
    "        sdb[s] = {\n",
    "            \n",
    "            \"Account\" : acc,\n",
    "            \"Password\" : p\n",
    "    \n",
    "        }\n",
    "        \n",
    "        login(acc, p)\n",
    "    else : \n",
    "        print(f'Account Creation failed as {bal} is not enough for the initial amount')\n",
    "        bank()"
   ]
  },
  {
   "cell_type": "code",
   "execution_count": 10,
   "id": "d448c2f1",
   "metadata": {},
   "outputs": [],
   "source": [
    "# Forgot username or password\n",
    "\n",
    "def fup():\n",
    "    a  = input(\"Press 'u' if you forgot your account number or press 'p' if you forgot your password\")\n",
    "    if a.lower() == 'u':\n",
    "        s  = input(\"Enter the Teacher's name you have inputted when you created the account\")\n",
    "        if s in sdb.keys():\n",
    "            print(\"Congrats we found your account, and your account no is:\",sdb[s][\"Account\"])\n",
    "        else:\n",
    "            print(\"Wrong Security Teacher's name\")\n",
    "            bank()\n",
    "    elif a.lower() == 'p':\n",
    "        s  = int(input(\"Enter your account no\"))\n",
    "        s1 = input(\"Enter your Security Teacher's name\")\n",
    "        \n",
    "        if s in bnk.keys() and s1 in sdb.keys():\n",
    "            if s == sdb[s1][\"Account\"]:\n",
    "                \n",
    "                p = pswdchkr()\n",
    "                bnk[s]['pswd'] = p\n",
    "                sdb[s1]['Password'] = p\n",
    "                bank()\n",
    "    else:\n",
    "        print(\"Chose the wrong option\")\n",
    "        bank()"
   ]
  },
  {
   "cell_type": "code",
   "execution_count": null,
   "id": "32f0eb5d",
   "metadata": {},
   "outputs": [],
   "source": []
  },
  {
   "cell_type": "code",
   "execution_count": 5,
   "id": "0e4bff05",
   "metadata": {},
   "outputs": [],
   "source": [
    "def bank():\n",
    "    a = int(input(\"Hello, Please select from these 4 options: \\n 1) Login \\n 2) Don't have any account(Sign Up) \\n 3) Forgot Username/Password \\n 4) Exit \\n\\n\"))\n",
    "    \n",
    "    if a == 1:\n",
    "        acc    = int(input(\"Enter your 4 digit account number: \"))\n",
    "        pswd   = input(\"Please enter your password\")\n",
    "        login(acc,pswd)\n",
    "        \n",
    "    elif a == 2:\n",
    "        sign_up()\n",
    "        \n",
    "    elif a == 3:\n",
    "        fup()\n",
    "        \n",
    "    else: \n",
    "        print(\"Thank you for using our Services 😊😊\")"
   ]
  },
  {
   "cell_type": "code",
   "execution_count": 11,
   "id": "9d326b99",
   "metadata": {},
   "outputs": [],
   "source": [
    "# Password Checker\n",
    "\n",
    "def pswdchkr():\n",
    "    a  = input(\"Enter Your New Password: \")\n",
    "    b = \"qwertyuiopasdfghjklzxcvbnm\"\n",
    "    \n",
    "    d = {\n",
    "        \"cap\" : b.upper(),\n",
    "        \"low\" : b,\n",
    "        \"num\" : '0123456789',\n",
    "        \"sc\"  : '!@#$%^&*()-=+_<>?/.,;:' \n",
    "    }\n",
    "    \n",
    "    c,l,s,n = 0,0,0,0\n",
    "    \n",
    "    for i in a:\n",
    "        \n",
    "        if i in d['cap']:\n",
    "            c += 1\n",
    "        elif i in d['low']:\n",
    "            l += 1\n",
    "        elif i in d['sc']:\n",
    "            s += 1\n",
    "        elif i in d['num']:\n",
    "            n += 1\n",
    "    \n",
    "    \n",
    "    ls = []\n",
    "        \n",
    "    if c == 0:\n",
    "        ls.append(\"Capital letters\")\n",
    "    if l == 0:\n",
    "        ls.append(\"Small Letters\")\n",
    "    if s == 0:\n",
    "        ls.append(\"Special Characters\")\n",
    "    if n == 0:\n",
    "        ls.append(\"Numbers\")\n",
    "    \n",
    "   \n",
    "    if len(ls) == 0 and len(a) > 7:\n",
    "        \n",
    "        return a\n",
    "        \n",
    "    else:\n",
    "        print(\"Your password is Weak\")\n",
    "        if len(a) < 7:\n",
    "            print(\"Your password must have at least 8 characters\")\n",
    "        if ls != 0:\n",
    "            print(ls,\"are missing in your password \")\n",
    "        pswdchkr()"
   ]
  },
  {
   "cell_type": "code",
   "execution_count": 7,
   "id": "ed2f7456",
   "metadata": {},
   "outputs": [],
   "source": [
    "# Account no generator:\n",
    "import numpy as np\n",
    "\n",
    "def accgen():\n",
    "    \n",
    "    num = ['0','1','2','3','4','5','6','7','8','9']\n",
    "    a = np.random.choice(num,4)\n",
    "    a = \"\".join(a)\n",
    "    if int(a) in bnk.keys():\n",
    "        accgen()\n",
    "    else:\n",
    "        return int(a)"
   ]
  },
  {
   "cell_type": "code",
   "execution_count": null,
   "id": "1f57de87",
   "metadata": {},
   "outputs": [],
   "source": [
    "\n"
   ]
  },
  {
   "cell_type": "code",
   "execution_count": 8,
   "id": "777833c9",
   "metadata": {},
   "outputs": [
    {
     "name": "stdout",
     "output_type": "stream",
     "text": [
      "Hello, Please select from these 4 options: \n",
      " 1) Login \n",
      " 2) Don't have any account(Sign Up) \n",
      " 3) Forgot Username/Password \n",
      " 4) Exit \n",
      "\n",
      "3\n",
      "Press 'u' if you forgot your account number or press 'p' if you forgot your passwordp\n",
      "Enter your account no1001\n",
      "Enter your Security Teacher's nameHarshav\n",
      "Enter Your New Password: dcnsvnskvs\n",
      "Your password is Weak\n",
      "['Capital letters', 'Special Characters', 'Numbers'] are missing in your password \n",
      "Enter Your New Password: vj ls vs\n",
      "Your password is Weak\n",
      "['Capital letters', 'Special Characters', 'Numbers'] are missing in your password \n",
      "Enter Your New Password: Ashvi123+\n"
     ]
    }
   ],
   "source": [
    "bank()\n",
    "\n"
   ]
  },
  {
   "cell_type": "code",
   "execution_count": null,
   "id": "98b8a183",
   "metadata": {},
   "outputs": [],
   "source": []
  },
  {
   "cell_type": "code",
   "execution_count": null,
   "id": "9aca589a",
   "metadata": {},
   "outputs": [],
   "source": []
  },
  {
   "cell_type": "code",
   "execution_count": null,
   "id": "3901cb86",
   "metadata": {},
   "outputs": [],
   "source": [
    "\n"
   ]
  },
  {
   "cell_type": "code",
   "execution_count": 15,
   "id": "185f0910",
   "metadata": {},
   "outputs": [
    {
     "data": {
      "text/plain": [
       "{1001: {'pswd': 'Alex789/*-',\n",
       "  'Balance': 14000,\n",
       "  'Account Holder': 'Ashwin Kumar',\n",
       "  'Address': 'cp,jaipur',\n",
       "  'Phone Number': 78451239631,\n",
       "  'Gmail': 'ask@gamil.com'},\n",
       " 1021: {'pswd': '*9G5wVYPa90:^(bg',\n",
       "  'Balance': 3000,\n",
       "  'Account Holder': 'Aditi Kumari',\n",
       "  'Address': 'choti chopad,jaipur',\n",
       "  'Phone Number': 7845123840,\n",
       "  'Gmail': 'adk@gamil.com'},\n",
       " 3921: {'pswd': 'Ask789/*-',\n",
       "  'Balance': 4000,\n",
       "  'Account Holder': 'Dev',\n",
       "  'Address': 'afnasfnafnasp;fne',\n",
       "  'Phone Number': 7978465130,\n",
       "  'Gmail': 'slfne@gmail.com'}}"
      ]
     },
     "execution_count": 15,
     "metadata": {},
     "output_type": "execute_result"
    }
   ],
   "source": [
    "bnk"
   ]
  },
  {
   "cell_type": "code",
   "execution_count": 24,
   "id": "1339ee01",
   "metadata": {},
   "outputs": [
    {
     "data": {
      "text/plain": [
       "1021"
      ]
     },
     "execution_count": 24,
     "metadata": {},
     "output_type": "execute_result"
    }
   ],
   "source": [
    "sdb[\"Anil Shrivastava Sir\"][\"Account\"]"
   ]
  },
  {
   "cell_type": "code",
   "execution_count": 26,
   "id": "887b633a",
   "metadata": {},
   "outputs": [
    {
     "data": {
      "text/plain": [
       "{'pswd': '*9G5wVYPa90:^(bg',\n",
       " 'Balance': 3000,\n",
       " 'Account Holder': 'Aditi Kumari',\n",
       " 'Address': 'choti chopad,jaipur',\n",
       " 'Phone Number': 7845123840,\n",
       " 'Gmail': 'adk@gamil.com'}"
      ]
     },
     "execution_count": 26,
     "metadata": {},
     "output_type": "execute_result"
    }
   ],
   "source": [
    "bnk[1021]"
   ]
  },
  {
   "cell_type": "code",
   "execution_count": null,
   "id": "e9297eca",
   "metadata": {},
   "outputs": [],
   "source": []
  }
 ],
 "metadata": {
  "kernelspec": {
   "display_name": "Python 3 (ipykernel)",
   "language": "python",
   "name": "python3"
  },
  "language_info": {
   "codemirror_mode": {
    "name": "ipython",
    "version": 3
   },
   "file_extension": ".py",
   "mimetype": "text/x-python",
   "name": "python",
   "nbconvert_exporter": "python",
   "pygments_lexer": "ipython3",
   "version": "3.11.4"
  }
 },
 "nbformat": 4,
 "nbformat_minor": 5
}
