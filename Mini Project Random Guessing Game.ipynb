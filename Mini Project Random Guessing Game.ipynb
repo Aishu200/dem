{
 "cells": [
  {
   "cell_type": "code",
   "execution_count": null,
   "id": "80be3181",
   "metadata": {},
   "outputs": [],
   "source": [
    "# Installing the library"
   ]
  },
  {
   "cell_type": "code",
   "execution_count": 1,
   "id": "a6289d98",
   "metadata": {},
   "outputs": [],
   "source": [
    "import random"
   ]
  },
  {
   "cell_type": "code",
   "execution_count": null,
   "id": "e797d9ef",
   "metadata": {},
   "outputs": [],
   "source": [
    "a = random.randint(1,100)\n",
    "\n",
    "print(\":\"*5,\"Guessing Game\",\":\"*5)\n",
    "print(\"You have only 10 chances\")\n",
    "\n",
    "for i in range(10):\n",
    "\n",
    "    b = int(input(\"Guess and input a number between 1 to 100\"))\n",
    "    if b == a:\n",
    "        print(\"🎊🎊🎉🎉🥳🥳🥳🥳Congrats you won🥳🥳🥳🥳🎉🎉🎊🎊\")\n",
    "        break\n",
    "    \n",
    "    else:\n",
    "        if b > a+10 :\n",
    "            \n",
    "            print(\"You are far above the number 😔😔\")\n",
    "        elif b < a-10:\n",
    "            print(\"You are far below the number\")\n",
    "        else:\n",
    "            if b > a and b <= a+10:\n",
    "                print(\"You are just a little above the number 🤞🤞\")\n",
    "            else:\n",
    "                print(\"You are just a little below the number 🤞🤞\")\n",
    "else:\n",
    "    print(\"You Lose 🤣🤣🤣🤣\")"
   ]
  },
  {
   "cell_type": "code",
   "execution_count": null,
   "id": "28231077",
   "metadata": {},
   "outputs": [],
   "source": []
  },
  {
   "cell_type": "code",
   "execution_count": null,
   "id": "01a47adc",
   "metadata": {},
   "outputs": [],
   "source": []
  },
  {
   "cell_type": "code",
   "execution_count": null,
   "id": "fe21940a",
   "metadata": {},
   "outputs": [],
   "source": []
  },
  {
   "cell_type": "code",
   "execution_count": null,
   "id": "e08cce63",
   "metadata": {},
   "outputs": [],
   "source": []
  },
  {
   "cell_type": "code",
   "execution_count": null,
   "id": "023cc596",
   "metadata": {},
   "outputs": [],
   "source": []
  },
  {
   "cell_type": "code",
   "execution_count": null,
   "id": "d82d0db4",
   "metadata": {},
   "outputs": [],
   "source": []
  },
  {
   "cell_type": "code",
   "execution_count": null,
   "id": "e47373d8",
   "metadata": {},
   "outputs": [],
   "source": []
  }
 ],
 "metadata": {
  "kernelspec": {
   "display_name": "Python 3 (ipykernel)",
   "language": "python",
   "name": "python3"
  },
  "language_info": {
   "codemirror_mode": {
    "name": "ipython",
    "version": 3
   },
   "file_extension": ".py",
   "mimetype": "text/x-python",
   "name": "python",
   "nbconvert_exporter": "python",
   "pygments_lexer": "ipython3",
   "version": "3.11.4"
  }
 },
 "nbformat": 4,
 "nbformat_minor": 5
}
